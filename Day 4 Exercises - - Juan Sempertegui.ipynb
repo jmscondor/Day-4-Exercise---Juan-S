{
 "cells": [
  {
   "cell_type": "markdown",
   "metadata": {},
   "source": [
    "### Exercise 1: \n",
    "Ask for a birthday, a favorite gift, and their dream job. Then, display summerized information in a formated string."
   ]
  },
  {
   "cell_type": "code",
   "execution_count": 9,
   "metadata": {},
   "outputs": [
    {
     "name": "stdout",
     "output_type": "stream",
     "text": [
      "when is your birthday Nov 10th\n",
      "what is your fave gift Money\n",
      "what is dream job Programmer\n",
      "My birthday is Nov 10th, my favorite gift is Money and my dream job is Programmer.\n"
     ]
    }
   ],
   "source": [
    "birthday = input(\"when is your birthday \")\n",
    "favoritegift = input(\"what is your fave gift \")\n",
    "\n",
    "# ask for the dream job\n",
    "\n",
    "Dreamjob = input(\"what is dream job \")\n",
    "\n",
    "print( f\"My birthday is {birthday}, my favorite gift is {favoritegift} and my dream job is {Dreamjob}.\")\n",
    "\n"
   ]
  },
  {
   "cell_type": "markdown",
   "metadata": {},
   "source": [
    "### Exercise 2: \n",
    "Ask for a favorite song, favorite movie, and favorite book.\n",
    "Use print statements to ask the questions, however user must type the answer on the same line as the question.\n",
    "\n",
    "Display summerized string."
   ]
  },
  {
   "cell_type": "code",
   "execution_count": 10,
   "metadata": {},
   "outputs": [
    {
     "name": "stdout",
     "output_type": "stream",
     "text": [
      "what is fave song? Who we be...\n",
      "what is fave movie? A few Good men\n",
      "what is fave book? art of war\n",
      "My favorite song is Who we be..., my favorite movie is A few Good men and my favorite book is art of war.\n"
     ]
    }
   ],
   "source": [
    "# ask for a favorite song using a print statement\n",
    "print(\"what is fave song?\", end=' ') \n",
    "song = input ()\n",
    "\n",
    "# ask for a favorite movie using a print statement\n",
    "print(\"what is fave movie?\", end=' ')\n",
    "movie = input ()\n",
    "\n",
    "\n",
    "# ask for a favorite book using a print statement\n",
    "print(\"what is fave book?\", end=' ')\n",
    "book = input ()\n",
    "\n",
    "\n",
    "# summerize\n",
    "\n",
    "print( f\"My favorite song is {song}, my favorite movie is {movie} and my favorite book is {book}.\")\n"
   ]
  },
  {
   "cell_type": "markdown",
   "metadata": {},
   "source": [
    "### Exercise 3\n",
    "Create a function that concatonates two strings and prints the new sentence out. Then, ask a user to type in two strings and print out the concatonation by calling your function.\n"
   ]
  },
  {
   "cell_type": "code",
   "execution_count": null,
   "metadata": {},
   "outputs": [],
   "source": [
    "\n",
    "def my_Function(string1, string2)\n",
    "  return string1 + string2\n",
    "\n",
    "\n",
    "\n",
    "# create a function\n",
    "def my_function (parameter, p2):\n",
    "    print(f\"{parameter} {p2}\")\n",
    "    "
   ]
  },
  {
   "cell_type": "code",
   "execution_count": 20,
   "metadata": {},
   "outputs": [
    {
     "name": "stdout",
     "output_type": "stream",
     "text": [
      "what do you like to eat? tacos\n",
      "why? yummy\n",
      "tacos are yummy\n"
     ]
    }
   ],
   "source": [
    "# get two strings from the user\n",
    "str1 = input(\"what do you like to eat? \")\n",
    "str2 = input(\"why? \")\n",
    "\n",
    "\n",
    "# call your function\n",
    "\n",
    "print (f\"{str1} are {str2}\")\n",
    "\n"
   ]
  },
  {
   "cell_type": "markdown",
   "metadata": {},
   "source": [
    "### Exercise 4 - Calling a function within a function\n",
    "\n",
    "Create a function for :\n",
    "\n",
    "    adding 2 numbers, \n",
    "    subtracting 2 numbers, \n",
    "    multiplying 2 numbers, \n",
    "    dividing 2 numbers.\n",
    "\n",
    "Create a function that computes BMI using above functions \n",
    "\n",
    "    BMI = ( Weight in Pounds / ( Height in inches x Height in inches ) ) x 703\n",
    "\n",
    "\n",
    "Then, get a weight and height from a user to compute user's BMI using your functions."
   ]
  },
  {
   "cell_type": "code",
   "execution_count": 21,
   "metadata": {},
   "outputs": [
    {
     "name": "stdout",
     "output_type": "stream",
     "text": [
      "What is your first number to add? 8\n",
      "What is your second number to add? 4\n",
      "Adding the first and second number is equal to 12.0\n"
     ]
    }
   ],
   "source": [
    "# define a function to add two numbers\n",
    "\n",
    "print (\"What is your first number to add?\", end=' ')\n",
    "numb1 = float(input())\n",
    "print (\"What is your second number to add?\", end=' ')\n",
    "numb2 = float(input())\n",
    "print(f\"Adding the first and second number is equal to {numb1 + numb2}\")\n",
    "\n",
    "# how do I impose rounding on final answer"
   ]
  },
  {
   "cell_type": "code",
   "execution_count": 23,
   "metadata": {},
   "outputs": [
    {
     "name": "stdout",
     "output_type": "stream",
     "text": [
      "What is your first number to subtract? 45\n",
      "What is your second number to subtract? 54\n",
      "Subtracting the first and second number is equal to -9.0\n"
     ]
    }
   ],
   "source": [
    "# define a function to subtract two numbers\n",
    "print (\"What is your first number to subtract?\", end=' ')\n",
    "numb1 = float(input())\n",
    "print (\"What is your second number to subtract?\", end=' ')\n",
    "numb2 = float(input())\n",
    "print(f\"Subtracting the first and second number is equal to {numb1 - numb2}\")"
   ]
  },
  {
   "cell_type": "code",
   "execution_count": 24,
   "metadata": {},
   "outputs": [
    {
     "name": "stdout",
     "output_type": "stream",
     "text": [
      "What is your first number to multiply? 8\n",
      "What is your second number to multiply? 65\n",
      "Multiplying the first and second number is equal to 520.0\n"
     ]
    }
   ],
   "source": [
    "# define a function to multiply two numbers\n",
    "print (\"What is your first number to multiply?\", end=' ')\n",
    "numb1 = float(input())\n",
    "print (\"What is your second number to multiply?\", end=' ')\n",
    "numb2 = float(input())\n",
    "print(f\"Multiplying the first and second number is equal to {numb1 * numb2}\")\n"
   ]
  },
  {
   "cell_type": "code",
   "execution_count": 25,
   "metadata": {},
   "outputs": [
    {
     "name": "stdout",
     "output_type": "stream",
     "text": [
      "What is your first number to divide? 85\n",
      "What is your second number to divide? 65\n",
      "Dividing the first and second number is equal to 1.3076923076923077\n"
     ]
    }
   ],
   "source": [
    "# define a function to divide two numbers\n",
    "\n",
    "print (\"What is your first number to divide?\", end=' ')\n",
    "numb1 = float(input())\n",
    "print (\"What is your second number to divide?\", end=' ')\n",
    "numb2 = float(input())\n",
    "print(f\"Dividing the first and second number is equal to {numb1 / numb2}\")\n",
    "\n"
   ]
  },
  {
   "cell_type": "code",
   "execution_count": null,
   "metadata": {},
   "outputs": [],
   "source": [
    "# define a function to calculate BMI\n",
    "# BMI = ( Weight in Pounds / ( Height in inches x Height in inches ) ) x 703\n",
    "#    don't forget to use your functions \n",
    "#    instead of using arithematic operators\n"
   ]
  },
  {
   "cell_type": "code",
   "execution_count": 26,
   "metadata": {},
   "outputs": [
    {
     "name": "stdout",
     "output_type": "stream",
     "text": [
      "What is your weight (in pounds)? 240\n",
      "What is your height (in inches)? 71\n",
      "Your BMI is 33.469549692521326\n"
     ]
    }
   ],
   "source": [
    "# get a weight from the user\n",
    "print (\"What is your weight (in pounds)?\", end=' ')\n",
    "weight = float(input())\n",
    "\n",
    "# get a height from the user\n",
    "print (\"What is your height (in inches)?\", end=' ')\n",
    "height = float(input())\n",
    "\n",
    "# compute BMI by calling your BMI function, and print out the result\n",
    "\n",
    "height2 = height * height\n",
    "weightheight = weight / height2\n",
    "\n",
    "print(f\"Your BMI is {(weight/(height * height)) * 703}\")\n"
   ]
  },
  {
   "cell_type": "markdown",
   "metadata": {},
   "source": [
    "### Exercise 5\n",
    "Modify your pseudocode for \"Find the average score\" from Day 2 homework to create a function that takes three arguments and returns their average. Then, get three scores from a user and use your function to compute their average.\n",
    "\n",
    "<i>*Use Day 2 Exercise Answers.ipynb from Canvas, if needed</i>"
   ]
  },
  {
   "cell_type": "code",
   "execution_count": 27,
   "metadata": {},
   "outputs": [
    {
     "name": "stdout",
     "output_type": "stream",
     "text": [
      "What is your first number? 8\n",
      "What is your second number? 69\n",
      "What is your third number? 74\n",
      "The average of the three numbers is 50.333333333333336\n"
     ]
    }
   ],
   "source": [
    "# define a function that takes three arguments and returns their average\n",
    "\n",
    "print(f\"The average of the three numbers is {(first + second + third) / 3}\")\n"
   ]
  },
  {
   "cell_type": "code",
   "execution_count": 28,
   "metadata": {},
   "outputs": [
    {
     "name": "stdout",
     "output_type": "stream",
     "text": [
      "What is your first number? 65\n",
      "What is your second number? 89354\n",
      "What is your third number? 12\n",
      "29810.333333333332\n",
      "The average of the three numbers is 29810.333333333332\n"
     ]
    }
   ],
   "source": [
    "# get three scores from a user \n",
    "print (\"What is your first number?\", end=' ')\n",
    "first = float(input())\n",
    "\n",
    "print (\"What is your second number?\", end=' ')\n",
    "second = float(input())\n",
    "\n",
    "print (\"What is your third number?\", end=' ')\n",
    "third = float(input())\n",
    "\n",
    "\n",
    "# call your function to compute the average score\n",
    "\n",
    "print(f\"{(first + second + third) / 3}\")\n",
    "\n",
    "# print the average score\n",
    "\n",
    "print(f\"The average of the three numbers is {(first + second + third) / 3}\")\n"
   ]
  },
  {
   "cell_type": "markdown",
   "metadata": {},
   "source": [
    "### Exercise 6\n",
    "Using your pseudocode for \"How much water runs off a roof in a rain storm?\" from Day 2 homework, define a Python function. Then, write a program to call your function.\n",
    "\n",
    "<i>*Which functionality make sense to modulize into a function? Use Day 2 Exercise Answers.ipynb from Canvas, if needed.</i>"
   ]
  },
  {
   "cell_type": "code",
   "execution_count": 29,
   "metadata": {},
   "outputs": [
    {
     "name": "stdout",
     "output_type": "stream",
     "text": [
      "How much rain fall, in inches, came down? 5\n",
      "What are the lenght dimensions of the roof? 58\n",
      "What are the width dimensions of the roof? 65\n",
      "The rain runoff was 1179.6610169491526 gallons.\n"
     ]
    }
   ],
   "source": [
    "# BEGIN\n",
    "\n",
    "# prompt user for rain in inches get r_fall\n",
    "\n",
    "# prompt user for dimensions of roof get width get lenght\n",
    "\n",
    "# subtotal = (width x 12) x (12 x lenght) x r_fall runoff = subtotal / 2301\n",
    "\n",
    "# display runoff\n",
    "\n",
    "# END\n",
    "\n",
    "print (\"How much rain fall, in inches, came down?\", end=' ')\n",
    "rain = float(input())\n",
    "\n",
    "print (\"What are the lenght dimensions of the roof?\", end=' ')\n",
    "rlenght = float(input())\n",
    "       \n",
    "print (\"What are the width dimensions of the roof?\", end=' ')\n",
    "rwidth = float(input())\n",
    "\n",
    "print(f\"The rain runoff was {((rwidth * 12) * (rlenght * 12) * rain) / 2301} gallons.\")\n",
    "\n",
    "# how I add the round and also add the comma to the thousands answer?\n"
   ]
  },
  {
   "cell_type": "raw",
   "metadata": {},
   "source": []
  },
  {
   "cell_type": "code",
   "execution_count": null,
   "metadata": {},
   "outputs": [],
   "source": []
  },
  {
   "cell_type": "code",
   "execution_count": null,
   "metadata": {},
   "outputs": [],
   "source": []
  }
 ],
 "metadata": {
  "kernelspec": {
   "display_name": "Python 3 (ipykernel)",
   "language": "python",
   "name": "python3"
  },
  "language_info": {
   "codemirror_mode": {
    "name": "ipython",
    "version": 3
   },
   "file_extension": ".py",
   "mimetype": "text/x-python",
   "name": "python",
   "nbconvert_exporter": "python",
   "pygments_lexer": "ipython3",
   "version": "3.9.12"
  }
 },
 "nbformat": 4,
 "nbformat_minor": 2
}
